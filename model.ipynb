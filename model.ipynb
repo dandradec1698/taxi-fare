{
 "cells": [
  {
   "cell_type": "markdown",
   "source": [
    "## Modelos\n",
    "\n",
    "En este apartado vamos a probar cuatro modelos distintos con la finalidad\n",
    "de comparar y luego encontrar el mejor modelo para nuestro dataset."
   ],
   "metadata": {
    "collapsed": false,
    "pycharm": {
     "name": "#%% md\n"
    }
   }
  },
  {
   "cell_type": "markdown",
   "source": [
    "Para empezar vamos a cargar la data previamente procesada en el anterior\n",
    "apartado, de ese paso se obtuvo otro subconjunto de datos más pequeño\n",
    "con el cual podremos trabajar los modelos."
   ],
   "metadata": {
    "collapsed": false,
    "pycharm": {
     "name": "#%% md\n"
    }
   }
  },
  {
   "cell_type": "code",
   "execution_count": 8,
   "outputs": [],
   "source": [
    "import pandas as pd"
   ],
   "metadata": {
    "collapsed": false,
    "pycharm": {
     "name": "#%%\n"
    }
   }
  },
  {
   "cell_type": "code",
   "execution_count": 13,
   "outputs": [],
   "source": [
    "df_taxi = pd.read_csv('train_cleared.csv')"
   ],
   "metadata": {
    "collapsed": false,
    "pycharm": {
     "name": "#%%\n"
    }
   }
  },
  {
   "cell_type": "code",
   "execution_count": 14,
   "outputs": [
    {
     "data": {
      "text/plain": "         fare_amount  passenger_count  distance  day_status  time_status\n0                7.7                1  2.802346           0            0\n1                7.5                1  1.557516           1            3\n2               16.5                1  4.160010           1            2\n3                9.0                1  1.254608           1            2\n4                5.3                1  1.376087           0            1\n...              ...              ...       ...         ...          ...\n8487132          5.5                3  0.872517           1            1\n8487133          5.7                3  1.664409           1            1\n8487134         13.7                1  2.528474           1            3\n8487135          4.5                1  1.163118           0            3\n8487136          8.1                1  3.334565           1            1\n\n[8487137 rows x 5 columns]",
      "text/html": "<div>\n<style scoped>\n    .dataframe tbody tr th:only-of-type {\n        vertical-align: middle;\n    }\n\n    .dataframe tbody tr th {\n        vertical-align: top;\n    }\n\n    .dataframe thead th {\n        text-align: right;\n    }\n</style>\n<table border=\"1\" class=\"dataframe\">\n  <thead>\n    <tr style=\"text-align: right;\">\n      <th></th>\n      <th>fare_amount</th>\n      <th>passenger_count</th>\n      <th>distance</th>\n      <th>day_status</th>\n      <th>time_status</th>\n    </tr>\n  </thead>\n  <tbody>\n    <tr>\n      <th>0</th>\n      <td>7.7</td>\n      <td>1</td>\n      <td>2.802346</td>\n      <td>0</td>\n      <td>0</td>\n    </tr>\n    <tr>\n      <th>1</th>\n      <td>7.5</td>\n      <td>1</td>\n      <td>1.557516</td>\n      <td>1</td>\n      <td>3</td>\n    </tr>\n    <tr>\n      <th>2</th>\n      <td>16.5</td>\n      <td>1</td>\n      <td>4.160010</td>\n      <td>1</td>\n      <td>2</td>\n    </tr>\n    <tr>\n      <th>3</th>\n      <td>9.0</td>\n      <td>1</td>\n      <td>1.254608</td>\n      <td>1</td>\n      <td>2</td>\n    </tr>\n    <tr>\n      <th>4</th>\n      <td>5.3</td>\n      <td>1</td>\n      <td>1.376087</td>\n      <td>0</td>\n      <td>1</td>\n    </tr>\n    <tr>\n      <th>...</th>\n      <td>...</td>\n      <td>...</td>\n      <td>...</td>\n      <td>...</td>\n      <td>...</td>\n    </tr>\n    <tr>\n      <th>8487132</th>\n      <td>5.5</td>\n      <td>3</td>\n      <td>0.872517</td>\n      <td>1</td>\n      <td>1</td>\n    </tr>\n    <tr>\n      <th>8487133</th>\n      <td>5.7</td>\n      <td>3</td>\n      <td>1.664409</td>\n      <td>1</td>\n      <td>1</td>\n    </tr>\n    <tr>\n      <th>8487134</th>\n      <td>13.7</td>\n      <td>1</td>\n      <td>2.528474</td>\n      <td>1</td>\n      <td>3</td>\n    </tr>\n    <tr>\n      <th>8487135</th>\n      <td>4.5</td>\n      <td>1</td>\n      <td>1.163118</td>\n      <td>0</td>\n      <td>3</td>\n    </tr>\n    <tr>\n      <th>8487136</th>\n      <td>8.1</td>\n      <td>1</td>\n      <td>3.334565</td>\n      <td>1</td>\n      <td>1</td>\n    </tr>\n  </tbody>\n</table>\n<p>8487137 rows × 5 columns</p>\n</div>"
     },
     "execution_count": 14,
     "metadata": {},
     "output_type": "execute_result"
    }
   ],
   "source": [
    "df_taxi"
   ],
   "metadata": {
    "collapsed": false,
    "pycharm": {
     "name": "#%%\n"
    }
   }
  },
  {
   "cell_type": "code",
   "execution_count": 18,
   "outputs": [
    {
     "data": {
      "text/plain": "count    8.487137e+06\nmean     1.114520e+01\nstd      9.191402e+00\nmin      2.500000e+00\n25%      6.000000e+00\n50%      8.500000e+00\n75%      1.250000e+01\nmax      4.750000e+02\nName: fare_amount, dtype: float64"
     },
     "execution_count": 18,
     "metadata": {},
     "output_type": "execute_result"
    }
   ],
   "source": [
    "df_taxi['fare_amount'].describe()"
   ],
   "metadata": {
    "collapsed": false,
    "pycharm": {
     "name": "#%%\n"
    }
   }
  },
  {
   "cell_type": "code",
   "execution_count": 19,
   "outputs": [],
   "source": [
    "# separamos las características que usaremos para predecir\n",
    "# del resultado, en este caso el resultado que queremos obtener\n",
    "# es 'fare_amount' a partir del resto de columnas\n",
    "X = df_taxi.drop(['fare_amount'], axis=1)\n",
    "y = df_taxi['fare_amount']"
   ],
   "metadata": {
    "collapsed": false,
    "pycharm": {
     "name": "#%%\n"
    }
   }
  },
  {
   "cell_type": "code",
   "execution_count": 4,
   "outputs": [],
   "source": [
    "from sklearn.model_selection import train_test_split\n",
    "\n",
    "# separamos la data de entrenamiento y prueba\n",
    "X_train, X_test, y_train, y_test = train_test_split(X, y, test_size=0.3)"
   ],
   "metadata": {
    "collapsed": false,
    "pycharm": {
     "name": "#%%\n"
    }
   }
  },
  {
   "cell_type": "code",
   "execution_count": 22,
   "outputs": [
    {
     "name": "stdout",
     "output_type": "stream",
     "text": [
      "Número de entradas de entrenamiento: 5940995\n",
      "Número de entradas de prueba: 2546142\n"
     ]
    }
   ],
   "source": [
    "print(\"Número de entradas de entrenamiento:\", X_train.shape[0])\n",
    "print(\"Número de entradas de prueba:\", X_test.shape[0])"
   ],
   "metadata": {
    "collapsed": false,
    "pycharm": {
     "name": "#%%\n"
    }
   }
  },
  {
   "cell_type": "code",
   "execution_count": 24,
   "outputs": [],
   "source": [
    "from sklearn.ensemble import AdaBoostRegressor\n",
    "\n",
    "# el primer modelo que probaremos será AdaBoost\n",
    "ada = AdaBoostRegressor()"
   ],
   "metadata": {
    "collapsed": false,
    "pycharm": {
     "name": "#%%\n"
    }
   }
  },
  {
   "cell_type": "code",
   "execution_count": 25,
   "outputs": [
    {
     "data": {
      "text/plain": "AdaBoostRegressor()"
     },
     "execution_count": 25,
     "metadata": {},
     "output_type": "execute_result"
    }
   ],
   "source": [
    "# entrenamos el modelo\n",
    "ada.fit(X_train, y_train)"
   ],
   "metadata": {
    "collapsed": false,
    "pycharm": {
     "name": "#%%\n"
    }
   }
  },
  {
   "cell_type": "code",
   "execution_count": 26,
   "outputs": [
    {
     "data": {
      "text/plain": "0.6349493204689052"
     },
     "execution_count": 26,
     "metadata": {},
     "output_type": "execute_result"
    }
   ],
   "source": [
    "ada.score(X_test, y_test)"
   ],
   "metadata": {
    "collapsed": false,
    "pycharm": {
     "name": "#%%\n"
    }
   }
  },
  {
   "cell_type": "code",
   "execution_count": 27,
   "outputs": [],
   "source": [
    "y_predict = ada.predict(X_test)"
   ],
   "metadata": {
    "collapsed": false,
    "pycharm": {
     "name": "#%%\n"
    }
   }
  },
  {
   "cell_type": "code",
   "execution_count": 33,
   "outputs": [],
   "source": [
    "import numpy as np\n",
    "from sklearn.metrics import mean_squared_error, r2_score"
   ],
   "metadata": {
    "collapsed": false,
    "pycharm": {
     "name": "#%%\n"
    }
   }
  },
  {
   "cell_type": "code",
   "execution_count": 37,
   "outputs": [
    {
     "name": "stdout",
     "output_type": "stream",
     "text": [
      "El error cuadrático medio de ADABoost es: 5.555397086272696\n"
     ]
    }
   ],
   "source": [
    "ada_mse = np.sqrt(mean_squared_error(y_test, y_predict))\n",
    "\n",
    "print(\"El error cuadrático medio de ADABoost es:\", ada_mse)"
   ],
   "metadata": {
    "collapsed": false,
    "pycharm": {
     "name": "#%%\n"
    }
   }
  },
  {
   "cell_type": "code",
   "execution_count": 36,
   "outputs": [
    {
     "name": "stdout",
     "output_type": "stream",
     "text": [
      "La métrica r2 score de ADABoost es: 0.6349493204689052\n"
     ]
    }
   ],
   "source": [
    "ada_r2 = r2_score(y_test, y_predict)\n",
    "\n",
    "print(\"La métrica r2 score de ADABoost es:\", ada_r2)\n",
    "\n"
   ],
   "metadata": {
    "collapsed": false,
    "pycharm": {
     "name": "#%%\n"
    }
   }
  }
 ],
 "metadata": {
  "kernelspec": {
   "display_name": "Python 3",
   "language": "python",
   "name": "python3"
  },
  "language_info": {
   "codemirror_mode": {
    "name": "ipython",
    "version": 2
   },
   "file_extension": ".py",
   "mimetype": "text/x-python",
   "name": "python",
   "nbconvert_exporter": "python",
   "pygments_lexer": "ipython2",
   "version": "2.7.6"
  }
 },
 "nbformat": 4,
 "nbformat_minor": 0
}
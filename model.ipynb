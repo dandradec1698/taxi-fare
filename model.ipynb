{
 "cells": [
  {
   "cell_type": "markdown",
   "metadata": {
    "pycharm": {
     "name": "#%% md\n"
    }
   },
   "source": [
    "## Entrenamiento\n",
    "\n",
    "En este apartado vamos a usar cuatro modelos distintos con la finalidad\n",
    "de comparar y luego encontrar el mejor modelo para nuestro dataset."
   ]
  },
  {
   "cell_type": "markdown",
   "metadata": {
    "pycharm": {
     "name": "#%% md\n"
    }
   },
   "source": [
    "Para empezar vamos a cargar la data previamente procesada en el anterior apartado, de ese paso se obtuvo otro subconjunto de datos más pequeño con el cual podremos trabajar los modelos."
   ]
  },
  {
   "cell_type": "code",
   "execution_count": 21,
   "metadata": {
    "pycharm": {
     "name": "#%%\n"
    }
   },
   "outputs": [],
   "source": [
    "import pandas as pd\n",
    "import seaborn as sns\n",
    "import matplotlib.pyplot as plt\n",
    "import numpy as np\n",
    "\n",
    "from sklearn.linear_model import LinearRegression \n",
    "from sklearn.ensemble import RandomForestRegressor,AdaBoostRegressor\n",
    "from sklearn.metrics import mean_squared_error, r2_score\n",
    "from sklearn.model_selection import train_test_split\n",
    "from sklearn.neural_network import MLPRegressor\n",
    "\n",
    "from xgboost import XGBRegressor\n",
    "%matplotlib inline"
   ]
  },
  {
   "cell_type": "code",
   "execution_count": 17,
   "metadata": {
    "pycharm": {
     "name": "#%%\n"
    }
   },
   "outputs": [],
   "source": [
    "df_taxi = pd.read_csv('train_cleared.csv')"
   ]
  },
  {
   "cell_type": "code",
   "execution_count": 18,
   "metadata": {
    "pycharm": {
     "name": "#%%\n"
    }
   },
   "outputs": [
    {
     "data": {
      "text/html": [
       "<div>\n",
       "<style scoped>\n",
       "    .dataframe tbody tr th:only-of-type {\n",
       "        vertical-align: middle;\n",
       "    }\n",
       "\n",
       "    .dataframe tbody tr th {\n",
       "        vertical-align: top;\n",
       "    }\n",
       "\n",
       "    .dataframe thead th {\n",
       "        text-align: right;\n",
       "    }\n",
       "</style>\n",
       "<table border=\"1\" class=\"dataframe\">\n",
       "  <thead>\n",
       "    <tr style=\"text-align: right;\">\n",
       "      <th></th>\n",
       "      <th>fare_amount</th>\n",
       "      <th>passenger_count</th>\n",
       "      <th>distance</th>\n",
       "      <th>day_status</th>\n",
       "      <th>time_status</th>\n",
       "    </tr>\n",
       "  </thead>\n",
       "  <tbody>\n",
       "    <tr>\n",
       "      <th>0</th>\n",
       "      <td>7.7</td>\n",
       "      <td>1</td>\n",
       "      <td>2.802346</td>\n",
       "      <td>0</td>\n",
       "      <td>0</td>\n",
       "    </tr>\n",
       "    <tr>\n",
       "      <th>1</th>\n",
       "      <td>7.5</td>\n",
       "      <td>1</td>\n",
       "      <td>1.557516</td>\n",
       "      <td>1</td>\n",
       "      <td>3</td>\n",
       "    </tr>\n",
       "    <tr>\n",
       "      <th>2</th>\n",
       "      <td>16.5</td>\n",
       "      <td>1</td>\n",
       "      <td>4.160010</td>\n",
       "      <td>1</td>\n",
       "      <td>2</td>\n",
       "    </tr>\n",
       "    <tr>\n",
       "      <th>3</th>\n",
       "      <td>9.0</td>\n",
       "      <td>1</td>\n",
       "      <td>1.254608</td>\n",
       "      <td>1</td>\n",
       "      <td>2</td>\n",
       "    </tr>\n",
       "    <tr>\n",
       "      <th>4</th>\n",
       "      <td>5.3</td>\n",
       "      <td>1</td>\n",
       "      <td>1.376087</td>\n",
       "      <td>0</td>\n",
       "      <td>1</td>\n",
       "    </tr>\n",
       "    <tr>\n",
       "      <th>...</th>\n",
       "      <td>...</td>\n",
       "      <td>...</td>\n",
       "      <td>...</td>\n",
       "      <td>...</td>\n",
       "      <td>...</td>\n",
       "    </tr>\n",
       "    <tr>\n",
       "      <th>8487132</th>\n",
       "      <td>5.5</td>\n",
       "      <td>3</td>\n",
       "      <td>0.872517</td>\n",
       "      <td>1</td>\n",
       "      <td>1</td>\n",
       "    </tr>\n",
       "    <tr>\n",
       "      <th>8487133</th>\n",
       "      <td>5.7</td>\n",
       "      <td>3</td>\n",
       "      <td>1.664409</td>\n",
       "      <td>1</td>\n",
       "      <td>1</td>\n",
       "    </tr>\n",
       "    <tr>\n",
       "      <th>8487134</th>\n",
       "      <td>13.7</td>\n",
       "      <td>1</td>\n",
       "      <td>2.528474</td>\n",
       "      <td>1</td>\n",
       "      <td>3</td>\n",
       "    </tr>\n",
       "    <tr>\n",
       "      <th>8487135</th>\n",
       "      <td>4.5</td>\n",
       "      <td>1</td>\n",
       "      <td>1.163118</td>\n",
       "      <td>0</td>\n",
       "      <td>3</td>\n",
       "    </tr>\n",
       "    <tr>\n",
       "      <th>8487136</th>\n",
       "      <td>8.1</td>\n",
       "      <td>1</td>\n",
       "      <td>3.334565</td>\n",
       "      <td>1</td>\n",
       "      <td>1</td>\n",
       "    </tr>\n",
       "  </tbody>\n",
       "</table>\n",
       "<p>8487137 rows × 5 columns</p>\n",
       "</div>"
      ],
      "text/plain": [
       "         fare_amount  passenger_count  distance  day_status  time_status\n",
       "0                7.7                1  2.802346           0            0\n",
       "1                7.5                1  1.557516           1            3\n",
       "2               16.5                1  4.160010           1            2\n",
       "3                9.0                1  1.254608           1            2\n",
       "4                5.3                1  1.376087           0            1\n",
       "...              ...              ...       ...         ...          ...\n",
       "8487132          5.5                3  0.872517           1            1\n",
       "8487133          5.7                3  1.664409           1            1\n",
       "8487134         13.7                1  2.528474           1            3\n",
       "8487135          4.5                1  1.163118           0            3\n",
       "8487136          8.1                1  3.334565           1            1\n",
       "\n",
       "[8487137 rows x 5 columns]"
      ]
     },
     "execution_count": 18,
     "metadata": {},
     "output_type": "execute_result"
    }
   ],
   "source": [
    "df_taxi"
   ]
  },
  {
   "cell_type": "code",
   "execution_count": 19,
   "metadata": {
    "pycharm": {
     "name": "#%%\n"
    }
   },
   "outputs": [
    {
     "data": {
      "text/plain": [
       "count    8.487137e+06\n",
       "mean     1.114520e+01\n",
       "std      9.191402e+00\n",
       "min      2.500000e+00\n",
       "25%      6.000000e+00\n",
       "50%      8.500000e+00\n",
       "75%      1.250000e+01\n",
       "max      4.750000e+02\n",
       "Name: fare_amount, dtype: float64"
      ]
     },
     "execution_count": 19,
     "metadata": {},
     "output_type": "execute_result"
    }
   ],
   "source": [
    "df_taxi['fare_amount'].describe()"
   ]
  },
  {
   "cell_type": "code",
   "execution_count": 26,
   "metadata": {
    "pycharm": {
     "name": "#%%\n"
    }
   },
   "outputs": [],
   "source": [
    "# separamos las características que usaremos para predecir\n",
    "# del resultado, en este caso el resultado que queremos obtener\n",
    "# es 'fare_amount' a partir del resto de columnas\n",
    "X = df_taxi.drop(['fare_amount'], axis=1)\n",
    "y = df_taxi['fare_amount']"
   ]
  },
  {
   "cell_type": "code",
   "execution_count": 27,
   "metadata": {
    "pycharm": {
     "name": "#%%\n"
    }
   },
   "outputs": [],
   "source": [
    "# separamos la data de entrenamiento y prueba\n",
    "X_train, X_test, y_train, y_test = train_test_split(X, y, test_size=0.3)"
   ]
  },
  {
   "cell_type": "code",
   "execution_count": 28,
   "metadata": {
    "pycharm": {
     "name": "#%%\n"
    }
   },
   "outputs": [
    {
     "name": "stdout",
     "output_type": "stream",
     "text": [
      "Número de entradas de entrenamiento: 5940995\n",
      "Número de entradas de prueba: 2546142\n"
     ]
    }
   ],
   "source": [
    "print(\"Número de entradas de entrenamiento:\", X_train.shape[0])\n",
    "print(\"Número de entradas de prueba:\", X_test.shape[0])"
   ]
  },
  {
   "cell_type": "code",
   "execution_count": 34,
   "metadata": {},
   "outputs": [],
   "source": [
    "## Usaremos una funcion para extraer las metricas del modelo\n",
    "def model_metric(model, X_test, y_test, name_model):\n",
    "    y_predict = model.predict(X_test)\n",
    "    model_mse = np.sqrt(mean_squared_error(y_test, y_predict))\n",
    "    model_r2 = r2_score(y_test, y_predict)\n",
    "    print(f\"El error cuadrático medio de {name_model} es:\", model_mse)\n",
    "    print(f\"La métrica r2 score de {name_model} es:\", model_r2)"
   ]
  },
  {
   "cell_type": "code",
   "execution_count": 31,
   "metadata": {
    "pycharm": {
     "name": "#%%\n"
    }
   },
   "outputs": [],
   "source": [
    "# El primer modelo que probaremos será AdaBoost\n",
    "ada = AdaBoostRegressor()"
   ]
  },
  {
   "cell_type": "code",
   "execution_count": 32,
   "metadata": {
    "pycharm": {
     "name": "#%%\n"
    }
   },
   "outputs": [
    {
     "data": {
      "text/plain": [
       "AdaBoostRegressor()"
      ]
     },
     "execution_count": 32,
     "metadata": {},
     "output_type": "execute_result"
    }
   ],
   "source": [
    "# Entrenamos el modelo\n",
    "ada.fit(X_train, y_train)"
   ]
  },
  {
   "cell_type": "code",
   "execution_count": 35,
   "metadata": {
    "pycharm": {
     "name": "#%%\n"
    }
   },
   "outputs": [
    {
     "name": "stdout",
     "output_type": "stream",
     "text": [
      "El error cuadrático medio de AdaBoostRegressor es: 6.008459980478541\n",
      "La métrica r2 score de AdaBoostRegressor es: 0.5725619501856332\n"
     ]
    }
   ],
   "source": [
    "model_metric(ada, X_test, y_test,'AdaBoostRegressor')"
   ]
  },
  {
   "cell_type": "code",
   "execution_count": null,
   "metadata": {},
   "outputs": [],
   "source": []
  }
 ],
 "metadata": {
  "kernelspec": {
   "display_name": "Python 3",
   "language": "python",
   "name": "python3"
  },
  "language_info": {
   "codemirror_mode": {
    "name": "ipython",
    "version": 3
   },
   "file_extension": ".py",
   "mimetype": "text/x-python",
   "name": "python",
   "nbconvert_exporter": "python",
   "pygments_lexer": "ipython3",
   "version": "3.9.5"
  }
 },
 "nbformat": 4,
 "nbformat_minor": 1
}

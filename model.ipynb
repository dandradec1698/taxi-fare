{
 "cells": [
  {
   "cell_type": "markdown",
   "metadata": {
    "pycharm": {
     "name": "#%% md\n"
    }
   },
   "source": [
    "## Entrenamiento\n",
    "\n",
    "En este apartado vamos a usar cuatro modelos distintos con la finalidad\n",
    "de comparar y luego encontrar el mejor modelo para nuestro dataset."
   ]
  },
  {
   "cell_type": "markdown",
   "metadata": {
    "pycharm": {
     "name": "#%% md\n"
    }
   },
   "source": [
    "Para empezar vamos a cargar la data previamente procesada en el anterior apartado, de ese paso se obtuvo otro subconjunto de datos más pequeño con el cual podremos trabajar los modelos."
   ]
  },
  {
   "cell_type": "code",
   "execution_count": 21,
   "metadata": {
    "pycharm": {
     "name": "#%%\n"
    }
   },
   "outputs": [],
   "source": [
    "import pandas as pd\n",
    "import seaborn as sns\n",
    "import matplotlib.pyplot as plt\n",
    "import numpy as np\n",
    "\n",
    "from sklearn.linear_model import LinearRegression \n",
    "from sklearn.ensemble import RandomForestRegressor,AdaBoostRegressor\n",
    "from sklearn.metrics import mean_squared_error, r2_score\n",
    "from sklearn.model_selection import train_test_split\n",
    "from sklearn.neural_network import MLPRegressor\n",
    "\n",
    "from xgboost import XGBRegressor\n",
    "%matplotlib inline"
   ]
  },
  {
   "cell_type": "code",
   "execution_count": 17,
   "metadata": {
    "pycharm": {
     "name": "#%%\n"
    }
   },
   "outputs": [],
   "source": [
    "df_taxi = pd.read_csv('train_cleared.csv')"
   ]
  },
  {
   "cell_type": "code",
   "execution_count": 18,
   "metadata": {
    "pycharm": {
     "name": "#%%\n"
    }
   },
   "outputs": [
    {
     "data": {
      "text/html": [
       "<div>\n",
       "<style scoped>\n",
       "    .dataframe tbody tr th:only-of-type {\n",
       "        vertical-align: middle;\n",
       "    }\n",
       "\n",
       "    .dataframe tbody tr th {\n",
       "        vertical-align: top;\n",
       "    }\n",
       "\n",
       "    .dataframe thead th {\n",
       "        text-align: right;\n",
       "    }\n",
       "</style>\n",
       "<table border=\"1\" class=\"dataframe\">\n",
       "  <thead>\n",
       "    <tr style=\"text-align: right;\">\n",
       "      <th></th>\n",
       "      <th>fare_amount</th>\n",
       "      <th>passenger_count</th>\n",
       "      <th>distance</th>\n",
       "      <th>day_status</th>\n",
       "      <th>time_status</th>\n",
       "    </tr>\n",
       "  </thead>\n",
       "  <tbody>\n",
       "    <tr>\n",
       "      <th>0</th>\n",
       "      <td>7.7</td>\n",
       "      <td>1</td>\n",
       "      <td>2.802346</td>\n",
       "      <td>0</td>\n",
       "      <td>0</td>\n",
       "    </tr>\n",
       "    <tr>\n",
       "      <th>1</th>\n",
       "      <td>7.5</td>\n",
       "      <td>1</td>\n",
       "      <td>1.557516</td>\n",
       "      <td>1</td>\n",
       "      <td>3</td>\n",
       "    </tr>\n",
       "    <tr>\n",
       "      <th>2</th>\n",
       "      <td>16.5</td>\n",
       "      <td>1</td>\n",
       "      <td>4.160010</td>\n",
       "      <td>1</td>\n",
       "      <td>2</td>\n",
       "    </tr>\n",
       "    <tr>\n",
       "      <th>3</th>\n",
       "      <td>9.0</td>\n",
       "      <td>1</td>\n",
       "      <td>1.254608</td>\n",
       "      <td>1</td>\n",
       "      <td>2</td>\n",
       "    </tr>\n",
       "    <tr>\n",
       "      <th>4</th>\n",
       "      <td>5.3</td>\n",
       "      <td>1</td>\n",
       "      <td>1.376087</td>\n",
       "      <td>0</td>\n",
       "      <td>1</td>\n",
       "    </tr>\n",
       "    <tr>\n",
       "      <th>...</th>\n",
       "      <td>...</td>\n",
       "      <td>...</td>\n",
       "      <td>...</td>\n",
       "      <td>...</td>\n",
       "      <td>...</td>\n",
       "    </tr>\n",
       "    <tr>\n",
       "      <th>8487132</th>\n",
       "      <td>5.5</td>\n",
       "      <td>3</td>\n",
       "      <td>0.872517</td>\n",
       "      <td>1</td>\n",
       "      <td>1</td>\n",
       "    </tr>\n",
       "    <tr>\n",
       "      <th>8487133</th>\n",
       "      <td>5.7</td>\n",
       "      <td>3</td>\n",
       "      <td>1.664409</td>\n",
       "      <td>1</td>\n",
       "      <td>1</td>\n",
       "    </tr>\n",
       "    <tr>\n",
       "      <th>8487134</th>\n",
       "      <td>13.7</td>\n",
       "      <td>1</td>\n",
       "      <td>2.528474</td>\n",
       "      <td>1</td>\n",
       "      <td>3</td>\n",
       "    </tr>\n",
       "    <tr>\n",
       "      <th>8487135</th>\n",
       "      <td>4.5</td>\n",
       "      <td>1</td>\n",
       "      <td>1.163118</td>\n",
       "      <td>0</td>\n",
       "      <td>3</td>\n",
       "    </tr>\n",
       "    <tr>\n",
       "      <th>8487136</th>\n",
       "      <td>8.1</td>\n",
       "      <td>1</td>\n",
       "      <td>3.334565</td>\n",
       "      <td>1</td>\n",
       "      <td>1</td>\n",
       "    </tr>\n",
       "  </tbody>\n",
       "</table>\n",
       "<p>8487137 rows × 5 columns</p>\n",
       "</div>"
      ],
      "text/plain": [
       "         fare_amount  passenger_count  distance  day_status  time_status\n",
       "0                7.7                1  2.802346           0            0\n",
       "1                7.5                1  1.557516           1            3\n",
       "2               16.5                1  4.160010           1            2\n",
       "3                9.0                1  1.254608           1            2\n",
       "4                5.3                1  1.376087           0            1\n",
       "...              ...              ...       ...         ...          ...\n",
       "8487132          5.5                3  0.872517           1            1\n",
       "8487133          5.7                3  1.664409           1            1\n",
       "8487134         13.7                1  2.528474           1            3\n",
       "8487135          4.5                1  1.163118           0            3\n",
       "8487136          8.1                1  3.334565           1            1\n",
       "\n",
       "[8487137 rows x 5 columns]"
      ]
     },
     "execution_count": 18,
     "metadata": {},
     "output_type": "execute_result"
    }
   ],
   "source": [
    "df_taxi"
   ]
  },
  {
   "cell_type": "code",
   "execution_count": 19,
   "metadata": {
    "pycharm": {
     "name": "#%%\n"
    }
   },
   "outputs": [
    {
     "data": {
      "text/plain": [
       "count    8.487137e+06\n",
       "mean     1.114520e+01\n",
       "std      9.191402e+00\n",
       "min      2.500000e+00\n",
       "25%      6.000000e+00\n",
       "50%      8.500000e+00\n",
       "75%      1.250000e+01\n",
       "max      4.750000e+02\n",
       "Name: fare_amount, dtype: float64"
      ]
     },
     "execution_count": 19,
     "metadata": {},
     "output_type": "execute_result"
    }
   ],
   "source": [
    "df_taxi['fare_amount'].describe()"
   ]
  },
  {
   "cell_type": "code",
   "execution_count": 26,
   "metadata": {
    "pycharm": {
     "name": "#%%\n"
    }
   },
   "outputs": [],
   "source": [
    "# separamos las características que usaremos para predecir\n",
    "# del resultado, en este caso el resultado que queremos obtener\n",
    "# es 'fare_amount' a partir del resto de columnas\n",
    "X = df_taxi.drop(['fare_amount'], axis=1)\n",
    "y = df_taxi['fare_amount']"
   ]
  },
  {
   "cell_type": "code",
   "execution_count": 27,
   "metadata": {
    "pycharm": {
     "name": "#%%\n"
    }
   },
   "outputs": [],
   "source": [
    "# separamos la data de entrenamiento y prueba\n",
    "X_train, X_test, y_train, y_test = train_test_split(X, y, test_size=0.3)"
   ]
  },
  {
   "cell_type": "code",
   "execution_count": 28,
   "metadata": {
    "pycharm": {
     "name": "#%%\n"
    }
   },
   "outputs": [
    {
     "name": "stdout",
     "output_type": "stream",
     "text": [
      "Número de entradas de entrenamiento: 5940995\n",
      "Número de entradas de prueba: 2546142\n"
     ]
    }
   ],
   "source": [
    "print(\"Número de entradas de entrenamiento:\", X_train.shape[0])\n",
    "print(\"Número de entradas de prueba:\", X_test.shape[0])"
   ]
  },
  {
   "cell_type": "markdown",
   "metadata": {},
   "source": [
    "#### Funcion de metricas\n",
    "Esta funcion nos ayudara a extraer las 2 metricas mas importantes de nuestro modelo, el error cuadratico medio y "
   ]
  },
  {
   "cell_type": "code",
   "execution_count": 47,
   "metadata": {},
   "outputs": [],
   "source": [
    "## Usaremos una funcion para extraer las metricas del modelo\n",
    "def model_metric(model, X_test, y_test, name_model):\n",
    "    print(f\"Metricas de modelo {name_model}\")\n",
    "    y_predict = model.predict(X_test)\n",
    "    model_mse = np.sqrt(mean_squared_error(y_test, y_predict))\n",
    "    model_r2 = r2_score(y_test, y_predict)\n",
    "    print(f\"El error cuadrático medio de {name_model} es:\", model_mse)\n",
    "    print(f\"La métrica r2 score de {name_model} es:\", model_r2)\n",
    "    return model_mse,model_r2"
   ]
  },
  {
   "cell_type": "code",
   "execution_count": 48,
   "metadata": {
    "pycharm": {
     "name": "#%%\n"
    }
   },
   "outputs": [],
   "source": [
    "# Usaremos 4 modelos que probaremos será AdaBoost\n",
    "name_model = []\n",
    "model = []\n",
    "## Linear Regression\n",
    "lm = LinearRegression(normalize=False, fit_intercept=True)\n",
    "name_model.append('Linear Regression')\n",
    "model.append(lm)\n",
    "## AdaBoost Regressor\n",
    "ada = AdaBoostRegressor()\n",
    "name_model.append('AdaBoost Regressor')\n",
    "model.append(ada)\n",
    "## RandomForest\n",
    "n_estimators=10\n",
    "rf = RandomForestRegressor(n_estimators=n_estimators)\n",
    "name_model.append('RandomForest Regressor')\n",
    "model.append(rf)\n",
    "## XGBoost Regressor\n",
    "xgbr = XGBRegressor()\n",
    "name_model.append('XGBoost Regressor')\n",
    "model.append(xgbr)"
   ]
  },
  {
   "cell_type": "code",
   "execution_count": 51,
   "metadata": {},
   "outputs": [
    {
     "name": "stdout",
     "output_type": "stream",
     "text": [
      "-- Linear Regression\n",
      "Entrenando...\n",
      "Metricas de modelo Linear Regression\n",
      "El error cuadrático medio de Linear Regression es: 9.184747423115247\n",
      "La métrica r2 score de Linear Regression es: 0.0011937076202302999\n",
      "-- AdaBoost Regressor\n",
      "Entrenando...\n",
      "Metricas de modelo AdaBoost Regressor\n",
      "El error cuadrático medio de AdaBoost Regressor es: 5.926991753864178\n",
      "La métrica r2 score de AdaBoost Regressor es: 0.5840745645540714\n",
      "-- XGBoost Regressor\n",
      "Entrenando...\n",
      "Metricas de modelo XGBoost Regressor\n",
      "El error cuadrático medio de XGBoost Regressor es: 4.170801197513071\n",
      "La métrica r2 score de XGBoost Regressor es: 0.7940386105147453\n",
      "-- RandomForest Regressor\n",
      "Entrenando...\n",
      "Metricas de modelo RandomForest Regressor\n",
      "El error cuadrático medio de RandomForest Regressor es: 4.542753854515826\n",
      "La métrica r2 score de RandomForest Regressor es: 0.7556652460333955\n"
     ]
    }
   ],
   "source": [
    "results = []\n",
    "for nam_model,_model in zip(name_model,model):\n",
    "    print(f\"\\n-- {nam_model}\")\n",
    "    print(\"Entrenando...\")\n",
    "    _model.fit(X_train,y_train)\n",
    "    results.append((model_metric(_model,X_test,y_test,nam_model),nam_model))"
   ]
  },
  {
   "cell_type": "code",
   "execution_count": 93,
   "metadata": {},
   "outputs": [
    {
     "data": {
      "image/png": "[encoded data removed]",
      "text/plain": [
       "<Figure size 864x720 with 1 Axes>"
      ]
     },
     "metadata": {
      "needs_background": "light"
     },
     "output_type": "display_data"
    }
   ],
   "source": [
    "labels = []\n",
    "r2_score = []\n",
    "mean = []\n",
    "for data in results:\n",
    "    labels.append(data[1])\n",
    "    r2_score.append(data[0][1])\n",
    "    mean.append(data[0][0])\n",
    "\n",
    "fig, ax = plt.subplots(figsize=(12,10))\n",
    "width = 0.3\n",
    "x = np.arange(len(labels))\n",
    "rects1 = ax.bar(x - width/2, r2_score, width, label='r2_score',color='green')\n",
    "rects2 = ax.bar(x + width/2, mean, width, label='mean')\n",
    "\n",
    "ax.set_ylabel('Resultados')\n",
    "ax.set_title('Comparativa de medias de los modelos usados')\n",
    "ax.set_xticks(x)\n",
    "ax.set_xticklabels(labels)\n",
    "ax.legend(loc='upper left')\n",
    "\n",
    "ax.bar_label(rects1, padding=3)\n",
    "\n",
    "ax.bar_label(rects2, padding=3)\n",
    "\n",
    "fig.tight_layout()\n",
    "\n",
    "plt.show()"
   ]
  },
  {
   "cell_type": "markdown",
   "metadata": {},
   "source": [
    "### Analisis\n",
    "Podemos ver de los resultados que el mejor modelo para estos datos es el XGBoost con un `score` de 0.794039 el cual posee el error cuadratico medio en 4.1708."
   ]
  },
  {
   "cell_type": "code",
   "execution_count": 13,
   "outputs": [],
   "source": [
    "y_pred = ada.predict(X_test)"
   ],
   "metadata": {
    "collapsed": false,
    "pycharm": {
     "name": "#%%\n"
    }
   }
  },
  {
   "cell_type": "code",
   "execution_count": 15,
   "outputs": [
    {
     "data": {
      "text/plain": "(2546142,)"
     },
     "execution_count": 15,
     "metadata": {},
     "output_type": "execute_result"
    }
   ],
   "source": [
    "y_test.shape"
   ],
   "metadata": {
    "collapsed": false,
    "pycharm": {
     "name": "#%%\n"
    }
   }
  },
  {
   "cell_type": "code",
   "execution_count": 16,
   "outputs": [
    {
     "data": {
      "text/plain": "(2546142,)"
     },
     "execution_count": 16,
     "metadata": {},
     "output_type": "execute_result"
    }
   ],
   "source": [
    "y_pred.shape"
   ],
   "metadata": {
    "collapsed": false,
    "pycharm": {
     "name": "#%%\n"
    }
   }
  },
  {
   "cell_type": "code",
   "execution_count": 18,
   "metadata": {},
   "outputs": [
    {
     "data": {
      "text/plain": "<matplotlib.legend.Legend at 0x7f947472e970>"
     },
     "execution_count": 18,
     "metadata": {},
     "output_type": "execute_result"
    },
    {
     "data": {
      "text/plain": "<Figure size 1440x360 with 1 Axes>",
      "image/png": "[encoded data removed]"
     },
     "metadata": {
      "needs_background": "light"
     },
     "output_type": "display_data"
    }
   ],
   "source": [
    "bound = 10000\n",
    "\n",
    "fig = plt.figure(figsize=(20,5))\n",
    "plt.bar(list(range(len(y_test[::bound]))), y_test.values[::bound],\n",
    "        alpha = 0.5, color = 'red', width = 1, label = 'Valores reales')\n",
    "plt.bar(list(range(len(y_pred[::bound]))), y_pred[::bound],\n",
    "        alpha = 0.7, color = 'blue', width = 1, label = 'Valores predichos')\n",
    "plt.legend()\n"
   ]
  }
 ],
 "metadata": {
  "kernelspec": {
   "display_name": "Python 3",
   "language": "python",
   "name": "python3"
  },
  "language_info": {
   "codemirror_mode": {
    "name": "ipython",
    "version": 3
   },
   "file_extension": ".py",
   "mimetype": "text/x-python",
   "name": "python",
   "nbconvert_exporter": "python",
   "pygments_lexer": "ipython3",
   "version": "3.9.5"
  }
 },
 "nbformat": 4,
 "nbformat_minor": 1
}
